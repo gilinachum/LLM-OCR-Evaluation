{
 "cells": [
  {
   "cell_type": "code",
   "execution_count": 1,
   "metadata": {},
   "outputs": [
    {
     "name": "stdout",
     "output_type": "stream",
     "text": [
      "1\n"
     ]
    }
   ],
   "source": [
    "print(1)"
   ]
  },
  {
   "cell_type": "code",
   "execution_count": 5,
   "metadata": {},
   "outputs": [
    {
     "name": "stdout",
     "output_type": "stream",
     "text": [
      "Similarity score: 100.00%\n",
      "Similarity score: 78.57%\n"
     ]
    }
   ],
   "source": [
    "# Example usage\n",
    "import json\n",
    "json1 = json.loads('{\"name\": \"John\", \"age\": 30, \"city\": \"New York\", \"hobbies\": [\"reading\", \"swimming\"]}')\n",
    "json2 = json.loads('{\"name\": \"Jon\", \"age\": 31, \"city\": \"New York\", \"hobbies\": [\"reading\", \"running\"]}')\n",
    "\n",
    "from json_eval import compare_json\n",
    "similarity_score = compare_json(json1, json1)\n",
    "print(f\"Similarity score: {similarity_score:.2f}%\")\n",
    "similarity_score = compare_json(json1, json2)\n",
    "print(f\"Similarity score: {similarity_score:.2f}%\")"
   ]
  },
  {
   "cell_type": "code",
   "execution_count": 8,
   "metadata": {},
   "outputs": [
    {
     "name": "stdout",
     "output_type": "stream",
     "text": [
      "Similarity score: 100.00%\n",
      "Similarity score: 97.08%\n"
     ]
    }
   ],
   "source": [
    "# load json from outputs/groundtruth1.json\n",
    "expected = json.load(open('./outputs/pizza_expected.json'))\n",
    "actual = json.load(open('./outputs/pizza_actual.json'))\n",
    "\n",
    "similarity_score = compare_json(expected, expected)\n",
    "print(f\"Similarity score: {similarity_score:.2f}%\")\n",
    "similarity_score = compare_json(expected, actual)\n",
    "print(f\"Similarity score: {similarity_score:.2f}%\")"
   ]
  },
  {
   "cell_type": "code",
   "execution_count": null,
   "metadata": {},
   "outputs": [],
   "source": []
  }
 ],
 "metadata": {
  "kernelspec": {
   "display_name": ".venv",
   "language": "python",
   "name": "python3"
  },
  "language_info": {
   "codemirror_mode": {
    "name": "ipython",
    "version": 3
   },
   "file_extension": ".py",
   "mimetype": "text/x-python",
   "name": "python",
   "nbconvert_exporter": "python",
   "pygments_lexer": "ipython3",
   "version": "3.10.13"
  }
 },
 "nbformat": 4,
 "nbformat_minor": 2
}
